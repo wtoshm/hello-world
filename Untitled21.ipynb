{
  "nbformat": 4,
  "nbformat_minor": 0,
  "metadata": {
    "colab": {
      "name": "Untitled21.ipynb",
      "provenance": [],
      "authorship_tag": "ABX9TyOhsikQGc6wq+Mv/YcSkn49",
      "include_colab_link": true
    },
    "kernelspec": {
      "name": "python3",
      "display_name": "Python 3"
    },
    "accelerator": "GPU"
  },
  "cells": [
    {
      "cell_type": "markdown",
      "metadata": {
        "id": "view-in-github",
        "colab_type": "text"
      },
      "source": [
        "<a href=\"https://colab.research.google.com/github/wtoshm/hello-world/blob/master/Untitled21.ipynb\" target=\"_parent\"><img src=\"https://colab.research.google.com/assets/colab-badge.svg\" alt=\"Open In Colab\"/></a>"
      ]
    },
    {
      "cell_type": "code",
      "metadata": {
        "id": "FlqeEM4LmIuH",
        "colab_type": "code",
        "outputId": "9cba8085-e748-4885-c8ac-631d3da0a885",
        "colab": {
          "base_uri": "https://localhost:8080/",
          "height": 404
        }
      },
      "source": [
        "!wget http://ufldl.stanford.edu/housenumbers/train_32x32.mat\n",
        "!wget http://ufldl.stanford.edu/housenumbers/test_32x32.mat\n"
      ],
      "execution_count": 1,
      "outputs": [
        {
          "output_type": "stream",
          "text": [
            "--2020-05-19 01:01:37--  http://ufldl.stanford.edu/housenumbers/train_32x32.mat\n",
            "Resolving ufldl.stanford.edu (ufldl.stanford.edu)... 171.64.68.10\n",
            "Connecting to ufldl.stanford.edu (ufldl.stanford.edu)|171.64.68.10|:80... connected.\n",
            "HTTP request sent, awaiting response... 200 OK\n",
            "Length: 182040794 (174M) [text/plain]\n",
            "Saving to: ‘train_32x32.mat’\n",
            "\n",
            "train_32x32.mat     100%[===================>] 173.61M  20.8MB/s    in 12s     \n",
            "\n",
            "2020-05-19 01:01:50 (14.3 MB/s) - ‘train_32x32.mat’ saved [182040794/182040794]\n",
            "\n",
            "--2020-05-19 01:01:51--  http://ufldl.stanford.edu/housenumbers/test_32x32.mat\n",
            "Resolving ufldl.stanford.edu (ufldl.stanford.edu)... 171.64.68.10\n",
            "Connecting to ufldl.stanford.edu (ufldl.stanford.edu)|171.64.68.10|:80... connected.\n",
            "HTTP request sent, awaiting response... 200 OK\n",
            "Length: 64275384 (61M) [text/plain]\n",
            "Saving to: ‘test_32x32.mat’\n",
            "\n",
            "test_32x32.mat      100%[===================>]  61.30M  14.0MB/s    in 6.7s    \n",
            "\n",
            "2020-05-19 01:01:58 (9.13 MB/s) - ‘test_32x32.mat’ saved [64275384/64275384]\n",
            "\n"
          ],
          "name": "stdout"
        }
      ]
    },
    {
      "cell_type": "code",
      "metadata": {
        "id": "SnMr-Xb3KhPd",
        "colab_type": "code",
        "colab": {}
      },
      "source": [
        "import scipy.io "
      ],
      "execution_count": 0,
      "outputs": []
    },
    {
      "cell_type": "code",
      "metadata": {
        "id": "G-yZKAphnuVx",
        "colab_type": "code",
        "colab": {}
      },
      "source": [
        "train = scipy.io.loadmat('train_32x32.mat')\n",
        "test = scipy.io.loadmat('test_32x32.mat')"
      ],
      "execution_count": 0,
      "outputs": []
    },
    {
      "cell_type": "code",
      "metadata": {
        "id": "BngSy4Vjob0a",
        "colab_type": "code",
        "colab": {
          "base_uri": "https://localhost:8080/",
          "height": 1000
        },
        "outputId": "05bbc0c7-8986-4296-eb8f-ff333863280a"
      },
      "source": [
        "train"
      ],
      "execution_count": 4,
      "outputs": [
        {
          "output_type": "execute_result",
          "data": {
            "text/plain": [
              "{'X': array([[[[ 33,  84,  19, ...,  92, 190, 216],\n",
              "          [ 30,  76,  54, ...,  78, 188, 217],\n",
              "          [ 38,  59, 110, ..., 101, 191, 212]],\n",
              " \n",
              "         [[ 15,  86,  20, ...,  94, 205, 221],\n",
              "          [ 23,  73,  52, ...,  82, 203, 222],\n",
              "          [ 19,  66, 111, ..., 105, 206, 217]],\n",
              " \n",
              "         [[ 15,  77,  25, ..., 114, 220, 226],\n",
              "          [ 17,  78,  57, ..., 101, 218, 227],\n",
              "          [ 19,  56, 116, ..., 125, 220, 221]],\n",
              " \n",
              "         ...,\n",
              " \n",
              "         [[ 72,  90,  65, ..., 200, 229, 200],\n",
              "          [ 65,  78, 144, ..., 201, 231, 199],\n",
              "          [ 56,  69, 223, ..., 203, 224, 191]],\n",
              " \n",
              "         [[ 82,  88,  78, ..., 192, 229, 193],\n",
              "          [ 77,  77, 148, ..., 193, 229, 188],\n",
              "          [ 57,  67, 218, ..., 195, 224, 182]],\n",
              " \n",
              "         [[ 89,  88,  98, ..., 190, 229, 197],\n",
              "          [ 79,  78, 158, ..., 191, 228, 189],\n",
              "          [ 59,  66, 220, ..., 193, 223, 186]]],\n",
              " \n",
              " \n",
              "        [[[ 28,  85,  21, ...,  92, 183, 204],\n",
              "          [ 39,  77,  53, ...,  78, 182, 205],\n",
              "          [ 35,  61, 110, ..., 103, 186, 202]],\n",
              " \n",
              "         [[ 14,  83,  19, ...,  93, 200, 210],\n",
              "          [ 25,  73,  52, ...,  80, 199, 211],\n",
              "          [ 22,  64, 106, ..., 106, 201, 208]],\n",
              " \n",
              "         [[ 14,  74,  25, ..., 111, 218, 220],\n",
              "          [ 20,  69,  56, ...,  98, 217, 221],\n",
              "          [ 17,  59, 111, ..., 124, 218, 217]],\n",
              " \n",
              "         ...,\n",
              " \n",
              "         [[ 40,  89,  63, ..., 181, 227, 201],\n",
              "          [ 39,  82, 137, ..., 180, 228, 199],\n",
              "          [ 50,  64, 208, ..., 184, 223, 193]],\n",
              " \n",
              "         [[ 67,  88,  91, ..., 177, 227, 195],\n",
              "          [ 58,  79, 153, ..., 176, 226, 191],\n",
              "          [ 52,  70, 214, ..., 180, 222, 186]],\n",
              " \n",
              "         [[ 83,  88, 130, ..., 183, 228, 196],\n",
              "          [ 78,  81, 180, ..., 182, 224, 190],\n",
              "          [ 60,  67, 229, ..., 187, 221, 186]]],\n",
              " \n",
              " \n",
              "        [[[ 40,  83,  21, ...,  99, 171, 198],\n",
              "          [ 41,  76,  53, ...,  84, 170, 198],\n",
              "          [ 38,  60, 110, ..., 112, 175, 197]],\n",
              " \n",
              "         [[ 18,  78,  20, ...,  94, 189, 202],\n",
              "          [ 21,  77,  51, ...,  81, 189, 202],\n",
              "          [ 26,  58, 106, ..., 110, 193, 201]],\n",
              " \n",
              "         [[ 16,  61,  22, ..., 107, 213, 212],\n",
              "          [ 17,  50,  52, ...,  94, 213, 211],\n",
              "          [ 23,  54, 106, ..., 123, 215, 210]],\n",
              " \n",
              "         ...,\n",
              " \n",
              "         [[ 23,  90,  79, ..., 167, 231, 203],\n",
              "          [ 29,  85, 147, ..., 166, 230, 200],\n",
              "          [ 45,  63, 210, ..., 171, 226, 196]],\n",
              " \n",
              "         [[ 35,  88, 125, ..., 172, 229, 198],\n",
              "          [ 42,  83, 181, ..., 171, 226, 194],\n",
              "          [ 44,  66, 230, ..., 176, 223, 191]],\n",
              " \n",
              "         [[ 72,  85, 178, ..., 185, 227, 195],\n",
              "          [ 69,  82, 218, ..., 184, 223, 190],\n",
              "          [ 53,  70, 254, ..., 189, 220, 187]]],\n",
              " \n",
              " \n",
              "        ...,\n",
              " \n",
              " \n",
              "        [[[ 86, 100,  88, ...,  99, 187, 233],\n",
              "          [ 81,  98, 162, ...,  94, 185, 226],\n",
              "          [ 75,  72, 237, ..., 110, 186, 228]],\n",
              " \n",
              "         [[ 87,  98,  89, ...,  96, 204, 230],\n",
              "          [ 82,  94, 163, ...,  91, 202, 224],\n",
              "          [ 71,  76, 238, ..., 109, 199, 225]],\n",
              " \n",
              "         [[ 82,  95,  84, ..., 108, 217, 228],\n",
              "          [ 79,  93, 156, ..., 103, 217, 223],\n",
              "          [ 65,  73, 230, ..., 124, 210, 221]],\n",
              " \n",
              "         ...,\n",
              " \n",
              "         [[104, 104,  62, ..., 210, 204, 198],\n",
              "          [104, 104, 142, ..., 207, 200, 196],\n",
              "          [ 87,  86, 227, ..., 204, 195, 190]],\n",
              " \n",
              "         [[104, 102,  67, ..., 206, 196, 184],\n",
              "          [105, 102, 144, ..., 202, 193, 183],\n",
              "          [ 81,  87, 226, ..., 200, 189, 177]],\n",
              " \n",
              "         [[103, 100,  74, ..., 203, 196, 189],\n",
              "          [105, 101, 145, ..., 197, 193, 187],\n",
              "          [ 78,  78, 225, ..., 199, 189, 182]]],\n",
              " \n",
              " \n",
              "        [[[ 84, 103,  88, ...,  94, 186, 231],\n",
              "          [ 86, 104, 164, ...,  91, 184, 226],\n",
              "          [ 64,  79, 240, ..., 103, 185, 228]],\n",
              " \n",
              "         [[ 86, 106,  87, ...,  94, 198, 229],\n",
              "          [ 79, 104, 160, ...,  91, 197, 224],\n",
              "          [ 72,  79, 237, ..., 104, 194, 225]],\n",
              " \n",
              "         [[ 82, 103,  88, ..., 110, 211, 227],\n",
              "          [ 76, 103, 159, ..., 107, 211, 223],\n",
              "          [ 72,  87, 237, ..., 121, 204, 222]],\n",
              " \n",
              "         ...,\n",
              " \n",
              "         [[110, 103,  60, ..., 219, 222, 195],\n",
              "          [103, 104, 141, ..., 218, 216, 194],\n",
              "          [ 84,  86, 230, ..., 215, 212, 186]],\n",
              " \n",
              "         [[106, 103,  61, ..., 218, 214, 181],\n",
              "          [105, 103, 141, ..., 215, 209, 181],\n",
              "          [ 85,  87, 228, ..., 212, 205, 173]],\n",
              " \n",
              "         [[106, 105,  65, ..., 212, 208, 186],\n",
              "          [104,  99, 143, ..., 209, 205, 183],\n",
              "          [ 86,  81, 226, ..., 209, 200, 177]]],\n",
              " \n",
              " \n",
              "        [[[ 85, 103,  84, ...,  88, 190, 230],\n",
              "          [ 88, 106, 160, ...,  87, 188, 226],\n",
              "          [ 68,  82, 238, ...,  94, 190, 227]],\n",
              " \n",
              "         [[ 89, 103,  81, ...,  85, 199, 230],\n",
              "          [ 82, 105, 154, ...,  84, 197, 226],\n",
              "          [ 72,  87, 233, ...,  93, 194, 227]],\n",
              " \n",
              "         [[ 85, 104,  87, ..., 105, 208, 229],\n",
              "          [ 79, 106, 158, ..., 103, 208, 225],\n",
              "          [ 67,  91, 238, ..., 114, 201, 226]],\n",
              " \n",
              "         ...,\n",
              " \n",
              "         [[111, 113,  63, ..., 217, 232, 190],\n",
              "          [104, 103, 144, ..., 217, 227, 190],\n",
              "          [ 87,  88, 235, ..., 214, 223, 181]],\n",
              " \n",
              "         [[109, 104,  62, ..., 221, 226, 178],\n",
              "          [105, 104, 143, ..., 220, 221, 177],\n",
              "          [ 86,  88, 232, ..., 219, 216, 169]],\n",
              " \n",
              "         [[103, 103,  63, ..., 218, 218, 181],\n",
              "          [106,  98, 145, ..., 217, 213, 178],\n",
              "          [ 79,  80, 231, ..., 218, 209, 171]]]], dtype=uint8),\n",
              " '__globals__': [],\n",
              " '__header__': b'MATLAB 5.0 MAT-file, Platform: GLNXA64, Created on: Mon Dec  5 21:09:26 2011',\n",
              " '__version__': '1.0',\n",
              " 'y': array([[1],\n",
              "        [9],\n",
              "        [2],\n",
              "        ...,\n",
              "        [1],\n",
              "        [6],\n",
              "        [9]], dtype=uint8)}"
            ]
          },
          "metadata": {
            "tags": []
          },
          "execution_count": 4
        }
      ]
    },
    {
      "cell_type": "code",
      "metadata": {
        "id": "-_1L6zP2K6EB",
        "colab_type": "code",
        "colab": {
          "base_uri": "https://localhost:8080/",
          "height": 1000
        },
        "outputId": "da169855-48b1-44bb-87d7-eb23e172373c"
      },
      "source": [
        "test"
      ],
      "execution_count": 5,
      "outputs": [
        {
          "output_type": "execute_result",
          "data": {
            "text/plain": [
              "{'X': array([[[[ 38, 129, 150, ..., 115,  96, 101],\n",
              "          [103, 142, 160, ..., 132,  65,  75],\n",
              "          [ 60, 153, 169, ..., 142,  47,  60]],\n",
              " \n",
              "         [[ 39, 127, 150, ..., 116,  97, 100],\n",
              "          [104, 143, 163, ..., 133,  65,  73],\n",
              "          [ 61, 152, 170, ..., 143,  49,  60]],\n",
              " \n",
              "         [[ 39, 125, 152, ..., 117,  97,  99],\n",
              "          [104, 143, 168, ..., 134,  65,  71],\n",
              "          [ 62, 151, 172, ..., 144,  50,  59]],\n",
              " \n",
              "         ...,\n",
              " \n",
              "         [[ 41, 121, 153, ..., 114,  86,  95],\n",
              "          [102, 133, 172, ..., 136,  61,  63],\n",
              "          [ 61, 153, 180, ..., 141,  54,  52]],\n",
              " \n",
              "         [[ 42, 123, 150, ..., 114,  87,  95],\n",
              "          [103, 134, 171, ..., 136,  62,  63],\n",
              "          [ 62, 156, 181, ..., 142,  55,  52]],\n",
              " \n",
              "         [[ 39, 123, 147, ..., 115,  88,  96],\n",
              "          [ 97, 135, 169, ..., 136,  63,  64],\n",
              "          [ 57, 157, 180, ..., 143,  56,  51]]],\n",
              " \n",
              " \n",
              "        [[[ 39, 134, 150, ..., 122,  96, 109],\n",
              "          [104, 150, 160, ..., 139,  65,  84],\n",
              "          [ 61, 160, 169, ..., 148,  48,  69]],\n",
              " \n",
              "         [[ 39, 133, 151, ..., 123,  97, 107],\n",
              "          [104, 149, 163, ..., 140,  65,  80],\n",
              "          [ 61, 158, 169, ..., 149,  50,  67]],\n",
              " \n",
              "         [[ 39, 132, 153, ..., 124,  97, 104],\n",
              "          [104, 149, 168, ..., 141,  65,  76],\n",
              "          [ 62, 157, 171, ..., 150,  51,  64]],\n",
              " \n",
              "         ...,\n",
              " \n",
              "         [[ 41, 127, 156, ..., 118,  85,  95],\n",
              "          [102, 138, 174, ..., 139,  62,  62],\n",
              "          [ 61, 157, 180, ..., 143,  53,  53]],\n",
              " \n",
              "         [[ 43, 126, 153, ..., 118,  87,  93],\n",
              "          [101, 137, 171, ..., 139,  63,  61],\n",
              "          [ 63, 157, 180, ..., 145,  54,  50]],\n",
              " \n",
              "         [[ 39, 125, 150, ..., 119,  88,  93],\n",
              "          [ 97, 137, 169, ..., 139,  64,  61],\n",
              "          [ 57, 158, 179, ..., 146,  55,  49]]],\n",
              " \n",
              " \n",
              "        [[[ 38, 141, 144, ..., 131,  96, 117],\n",
              "          [105, 158, 154, ..., 148,  64,  95],\n",
              "          [ 62, 168, 163, ..., 155,  49,  78]],\n",
              " \n",
              "         [[ 37, 140, 146, ..., 132,  96, 114],\n",
              "          [104, 157, 157, ..., 149,  64,  90],\n",
              "          [ 61, 166, 163, ..., 156,  50,  75]],\n",
              " \n",
              "         [[ 39, 140, 148, ..., 133,  96, 108],\n",
              "          [106, 157, 162, ..., 149,  64,  83],\n",
              "          [ 63, 165, 165, ..., 157,  51,  70]],\n",
              " \n",
              "         ...,\n",
              " \n",
              "         [[ 43, 135, 157, ..., 125,  87,  95],\n",
              "          [101, 147, 172, ..., 143,  66,  62],\n",
              "          [ 63, 163, 177, ..., 147,  54,  53]],\n",
              " \n",
              "         [[ 43, 132, 153, ..., 125,  90,  92],\n",
              "          [100, 143, 168, ..., 143,  68,  60],\n",
              "          [ 64, 161, 175, ..., 149,  57,  50]],\n",
              " \n",
              "         [[ 39, 130, 150, ..., 126,  91,  91],\n",
              "          [ 97, 141, 165, ..., 144,  69,  59],\n",
              "          [ 59, 160, 173, ..., 150,  58,  48]]],\n",
              " \n",
              " \n",
              "        ...,\n",
              " \n",
              " \n",
              "        [[[ 52, 147, 135, ...,  94,  99, 116],\n",
              "          [119, 161, 150, ...,  97,  68,  96],\n",
              "          [ 78, 174, 167, ..., 114,  48,  85]],\n",
              " \n",
              "         [[ 53, 142, 134, ...,  93,  99, 116],\n",
              "          [120, 156, 149, ...,  96,  70,  96],\n",
              "          [ 79, 169, 166, ..., 113,  50,  87]],\n",
              " \n",
              "         [[ 51, 136, 132, ...,  92, 100, 115],\n",
              "          [118, 151, 147, ...,  95,  73,  95],\n",
              "          [ 77, 163, 165, ..., 112,  53,  87]],\n",
              " \n",
              "         ...,\n",
              " \n",
              "         [[ 44,  93, 124, ..., 140, 138, 101],\n",
              "          [118,  97, 140, ..., 153, 121,  70],\n",
              "          [ 69, 126, 157, ..., 162, 105,  50]],\n",
              " \n",
              "         [[ 44,  96, 122, ..., 142, 127, 101],\n",
              "          [117, 100, 139, ..., 155, 109,  70],\n",
              "          [ 71, 128, 157, ..., 164,  93,  50]],\n",
              " \n",
              "         [[ 41, 104, 121, ..., 144, 117, 101],\n",
              "          [114, 109, 138, ..., 157,  98,  70],\n",
              "          [ 69, 136, 158, ..., 165,  83,  50]]],\n",
              " \n",
              " \n",
              "        [[[ 50, 138, 147, ..., 117,  98, 104],\n",
              "          [117, 152, 165, ..., 122,  67,  83],\n",
              "          [ 76, 165, 179, ..., 137,  46,  71]],\n",
              " \n",
              "         [[ 51, 130, 147, ..., 117,  99, 105],\n",
              "          [118, 144, 164, ..., 122,  70,  84],\n",
              "          [ 77, 157, 179, ..., 137,  48,  73]],\n",
              " \n",
              "         [[ 49, 121, 147, ..., 118, 100, 105],\n",
              "          [116, 136, 164, ..., 123,  73,  84],\n",
              "          [ 75, 148, 179, ..., 137,  51,  74]],\n",
              " \n",
              "         ...,\n",
              " \n",
              "         [[ 44,  93, 139, ..., 141, 126, 101],\n",
              "          [117,  99, 155, ..., 154, 108,  70],\n",
              "          [ 71, 128, 170, ..., 163,  92,  49]],\n",
              " \n",
              "         [[ 45, 101, 139, ..., 143, 118, 102],\n",
              "          [116, 107, 155, ..., 156,  99,  71],\n",
              "          [ 72, 134, 170, ..., 164,  83,  50]],\n",
              " \n",
              "         [[ 42, 112, 138, ..., 144, 110, 102],\n",
              "          [113, 118, 155, ..., 157,  91,  71],\n",
              "          [ 69, 144, 171, ..., 165,  75,  50]]],\n",
              " \n",
              " \n",
              "        [[[ 48, 131, 159, ..., 132,  97,  95],\n",
              "          [115, 145, 177, ..., 138,  66,  73],\n",
              "          [ 74, 158, 189, ..., 152,  45,  62]],\n",
              " \n",
              "         [[ 48, 122, 159, ..., 133,  99,  96],\n",
              "          [115, 136, 177, ..., 140,  69,  74],\n",
              "          [ 74, 149, 190, ..., 152,  48,  63]],\n",
              " \n",
              "         [[ 46, 111, 159, ..., 135, 100,  97],\n",
              "          [113, 126, 177, ..., 142,  72,  75],\n",
              "          [ 72, 139, 191, ..., 153,  51,  64]],\n",
              " \n",
              "         ...,\n",
              " \n",
              "         [[ 43, 101, 152, ..., 142, 118, 101],\n",
              "          [116, 108, 168, ..., 155,  99,  70],\n",
              "          [ 71, 135, 181, ..., 164,  82,  49]],\n",
              " \n",
              "         [[ 44, 111, 152, ..., 143, 111, 102],\n",
              "          [115, 118, 168, ..., 156,  92,  71],\n",
              "          [ 71, 144, 182, ..., 165,  74,  50]],\n",
              " \n",
              "         [[ 42, 123, 152, ..., 144, 104, 102],\n",
              "          [113, 130, 168, ..., 157,  85,  71],\n",
              "          [ 71, 156, 183, ..., 165,  68,  50]]]], dtype=uint8),\n",
              " '__globals__': [],\n",
              " '__header__': b'MATLAB 5.0 MAT-file, Platform: GLNXA64, Created on: Mon Dec  5 21:18:15 2011',\n",
              " '__version__': '1.0',\n",
              " 'y': array([[5],\n",
              "        [2],\n",
              "        [1],\n",
              "        ...,\n",
              "        [7],\n",
              "        [6],\n",
              "        [7]], dtype=uint8)}"
            ]
          },
          "metadata": {
            "tags": []
          },
          "execution_count": 5
        }
      ]
    },
    {
      "cell_type": "code",
      "metadata": {
        "id": "oNuPMQmcr3r3",
        "colab_type": "code",
        "outputId": "f3cca826-c018-46a5-bd26-d0250906667a",
        "colab": {
          "base_uri": "https://localhost:8080/",
          "height": 34
        }
      },
      "source": [
        "train['X'].shape"
      ],
      "execution_count": 6,
      "outputs": [
        {
          "output_type": "execute_result",
          "data": {
            "text/plain": [
              "(32, 32, 3, 73257)"
            ]
          },
          "metadata": {
            "tags": []
          },
          "execution_count": 6
        }
      ]
    },
    {
      "cell_type": "code",
      "metadata": {
        "id": "kALvBByqwAoi",
        "colab_type": "code",
        "colab": {
          "base_uri": "https://localhost:8080/",
          "height": 879
        },
        "outputId": "a225286e-e75b-4c6c-8899-ccc77726af60"
      },
      "source": [
        "train['X'][:,:,:,0]"
      ],
      "execution_count": 9,
      "outputs": [
        {
          "output_type": "execute_result",
          "data": {
            "text/plain": [
              "array([[[ 33,  30,  38],\n",
              "        [ 15,  23,  19],\n",
              "        [ 15,  17,  19],\n",
              "        ...,\n",
              "        [ 72,  65,  56],\n",
              "        [ 82,  77,  57],\n",
              "        [ 89,  79,  59]],\n",
              "\n",
              "       [[ 28,  39,  35],\n",
              "        [ 14,  25,  22],\n",
              "        [ 14,  20,  17],\n",
              "        ...,\n",
              "        [ 40,  39,  50],\n",
              "        [ 67,  58,  52],\n",
              "        [ 83,  78,  60]],\n",
              "\n",
              "       [[ 40,  41,  38],\n",
              "        [ 18,  21,  26],\n",
              "        [ 16,  17,  23],\n",
              "        ...,\n",
              "        [ 23,  29,  45],\n",
              "        [ 35,  42,  44],\n",
              "        [ 72,  69,  53]],\n",
              "\n",
              "       ...,\n",
              "\n",
              "       [[ 86,  81,  75],\n",
              "        [ 87,  82,  71],\n",
              "        [ 82,  79,  65],\n",
              "        ...,\n",
              "        [104, 104,  87],\n",
              "        [104, 105,  81],\n",
              "        [103, 105,  78]],\n",
              "\n",
              "       [[ 84,  86,  64],\n",
              "        [ 86,  79,  72],\n",
              "        [ 82,  76,  72],\n",
              "        ...,\n",
              "        [110, 103,  84],\n",
              "        [106, 105,  85],\n",
              "        [106, 104,  86]],\n",
              "\n",
              "       [[ 85,  88,  68],\n",
              "        [ 89,  82,  72],\n",
              "        [ 85,  79,  67],\n",
              "        ...,\n",
              "        [111, 104,  87],\n",
              "        [109, 105,  86],\n",
              "        [103, 106,  79]]], dtype=uint8)"
            ]
          },
          "metadata": {
            "tags": []
          },
          "execution_count": 9
        }
      ]
    },
    {
      "cell_type": "code",
      "metadata": {
        "id": "XAlePNo-fjOp",
        "colab_type": "code",
        "colab": {
          "base_uri": "https://localhost:8080/",
          "height": 34
        },
        "outputId": "4cb60227-f805-48a8-cc80-ded3ba167023"
      },
      "source": [
        "train['X'][:,:,:,0].shape"
      ],
      "execution_count": 10,
      "outputs": [
        {
          "output_type": "execute_result",
          "data": {
            "text/plain": [
              "(32, 32, 3)"
            ]
          },
          "metadata": {
            "tags": []
          },
          "execution_count": 10
        }
      ]
    },
    {
      "cell_type": "code",
      "metadata": {
        "id": "G6pTYma1wRa_",
        "colab_type": "code",
        "outputId": "40b66ea5-ef0e-4b07-a73a-c9554f2a2e55",
        "colab": {
          "base_uri": "https://localhost:8080/",
          "height": 34
        }
      },
      "source": [
        "train['y'].shape"
      ],
      "execution_count": 11,
      "outputs": [
        {
          "output_type": "execute_result",
          "data": {
            "text/plain": [
              "(73257, 1)"
            ]
          },
          "metadata": {
            "tags": []
          },
          "execution_count": 11
        }
      ]
    },
    {
      "cell_type": "code",
      "metadata": {
        "id": "jezBTcbTLEUt",
        "colab_type": "code",
        "outputId": "7e4aff8e-60cf-413c-c10f-1a4f477c5b24",
        "colab": {
          "base_uri": "https://localhost:8080/",
          "height": 140
        }
      },
      "source": [
        "train['y'] > 9"
      ],
      "execution_count": 12,
      "outputs": [
        {
          "output_type": "execute_result",
          "data": {
            "text/plain": [
              "array([[False],\n",
              "       [False],\n",
              "       [False],\n",
              "       ...,\n",
              "       [False],\n",
              "       [False],\n",
              "       [False]])"
            ]
          },
          "metadata": {
            "tags": []
          },
          "execution_count": 12
        }
      ]
    },
    {
      "cell_type": "code",
      "metadata": {
        "id": "xEbSKfYB0dRa",
        "colab_type": "code",
        "outputId": "eb84b730-5c9d-4c79-fc29-c973f815ca1b",
        "colab": {
          "base_uri": "https://localhost:8080/",
          "height": 34
        }
      },
      "source": [
        "sum(train['y'] > 9)"
      ],
      "execution_count": 13,
      "outputs": [
        {
          "output_type": "execute_result",
          "data": {
            "text/plain": [
              "array([4948])"
            ]
          },
          "metadata": {
            "tags": []
          },
          "execution_count": 13
        }
      ]
    },
    {
      "cell_type": "code",
      "metadata": {
        "id": "gP-Yw0eeMpjU",
        "colab_type": "code",
        "colab": {}
      },
      "source": [
        "import numpy as np"
      ],
      "execution_count": 0,
      "outputs": []
    },
    {
      "cell_type": "code",
      "metadata": {
        "id": "Yyrud4acMA6m",
        "colab_type": "code",
        "colab": {}
      },
      "source": [
        "value_10_index = np.where(train['y'] > 9)"
      ],
      "execution_count": 0,
      "outputs": []
    },
    {
      "cell_type": "code",
      "metadata": {
        "id": "UwshK4x6MtfC",
        "colab_type": "code",
        "outputId": "ae12953b-dd54-4f8c-8893-47c0493aadc3",
        "colab": {
          "base_uri": "https://localhost:8080/",
          "height": 52
        }
      },
      "source": [
        "value_10_index"
      ],
      "execution_count": 17,
      "outputs": [
        {
          "output_type": "execute_result",
          "data": {
            "text/plain": [
              "(array([   52,    84,    93, ..., 73193, 73220, 73239]),\n",
              " array([0, 0, 0, ..., 0, 0, 0]))"
            ]
          },
          "metadata": {
            "tags": []
          },
          "execution_count": 17
        }
      ]
    },
    {
      "cell_type": "code",
      "metadata": {
        "id": "rOc27GWdM1-V",
        "colab_type": "code",
        "colab": {}
      },
      "source": [
        "train['y'][value_10_index] = 0"
      ],
      "execution_count": 0,
      "outputs": []
    },
    {
      "cell_type": "code",
      "metadata": {
        "id": "-agpjbxmPn6j",
        "colab_type": "code",
        "colab": {}
      },
      "source": [
        "train['y'][:100]"
      ],
      "execution_count": 0,
      "outputs": []
    },
    {
      "cell_type": "code",
      "metadata": {
        "id": "h46G2MfOP9s-",
        "colab_type": "code",
        "outputId": "2e239487-4759-41c0-f7a3-cc08a9f766b2",
        "colab": {
          "base_uri": "https://localhost:8080/",
          "height": 34
        }
      },
      "source": [
        "sum(train['y'] < 1)"
      ],
      "execution_count": 20,
      "outputs": [
        {
          "output_type": "execute_result",
          "data": {
            "text/plain": [
              "array([4948])"
            ]
          },
          "metadata": {
            "tags": []
          },
          "execution_count": 20
        }
      ]
    },
    {
      "cell_type": "code",
      "metadata": {
        "id": "oZ9CwvXdgr2s",
        "colab_type": "code",
        "colab": {}
      },
      "source": [
        "value_10_index_test = np.where(test['y'] > 9)"
      ],
      "execution_count": 0,
      "outputs": []
    },
    {
      "cell_type": "code",
      "metadata": {
        "id": "9XQkAFmegrrh",
        "colab_type": "code",
        "colab": {
          "base_uri": "https://localhost:8080/",
          "height": 52
        },
        "outputId": "5801168a-bb22-47a6-b339-d195920e7a1b"
      },
      "source": [
        "value_10_index_test"
      ],
      "execution_count": 22,
      "outputs": [
        {
          "output_type": "execute_result",
          "data": {
            "text/plain": [
              "(array([    3,    21,    34, ..., 26006, 26011, 26021]),\n",
              " array([0, 0, 0, ..., 0, 0, 0]))"
            ]
          },
          "metadata": {
            "tags": []
          },
          "execution_count": 22
        }
      ]
    },
    {
      "cell_type": "code",
      "metadata": {
        "id": "jq5bziXQg7Lz",
        "colab_type": "code",
        "colab": {}
      },
      "source": [
        "test['y'][value_10_index_test] = 0"
      ],
      "execution_count": 0,
      "outputs": []
    },
    {
      "cell_type": "code",
      "metadata": {
        "id": "a2bCSyMyw0PZ",
        "colab_type": "code",
        "colab": {}
      },
      "source": [
        "import matplotlib.pyplot as plt\n",
        "import matplotlib.image as mpimg"
      ],
      "execution_count": 0,
      "outputs": []
    },
    {
      "cell_type": "code",
      "metadata": {
        "id": "nkjb457nw2p1",
        "colab_type": "code",
        "outputId": "96aedc10-fb64-46ad-b4e0-496efc4c3431",
        "colab": {
          "base_uri": "https://localhost:8080/",
          "height": 266
        }
      },
      "source": [
        "imgplot = plt.imshow(train['X'][:,:,:,10])"
      ],
      "execution_count": 27,
      "outputs": [
        {
          "output_type": "display_data",
          "data": {
            "image/png": "[encoded data removed]",
            "text/plain": [
              "<Figure size 432x288 with 1 Axes>"
            ]
          },
          "metadata": {
            "tags": [],
            "needs_background": "light"
          }
        }
      ]
    },
    {
      "cell_type": "code",
      "metadata": {
        "id": "uQS7YYJ2hcjC",
        "colab_type": "code",
        "colab": {
          "base_uri": "https://localhost:8080/",
          "height": 284
        },
        "outputId": "bb909cce-bc18-4bee-cf50-8b2e96b58a72"
      },
      "source": [
        "plt.imshow(train['X'][:,:,0,10])"
      ],
      "execution_count": 28,
      "outputs": [
        {
          "output_type": "execute_result",
          "data": {
            "text/plain": [
              "<matplotlib.image.AxesImage at 0x7f5a6a0c0240>"
            ]
          },
          "metadata": {
            "tags": []
          },
          "execution_count": 28
        },
        {
          "output_type": "display_data",
          "data": {
            "image/png": "[encoded data removed]",
            "text/plain": [
              "<Figure size 432x288 with 1 Axes>"
            ]
          },
          "metadata": {
            "tags": [],
            "needs_background": "light"
          }
        }
      ]
    },
    {
      "cell_type": "code",
      "metadata": {
        "id": "XFFSSHVEhcSc",
        "colab_type": "code",
        "colab": {
          "base_uri": "https://localhost:8080/",
          "height": 34
        },
        "outputId": "370cb735-05a9-4574-9e91-f08a1e056b14"
      },
      "source": [
        "train['y'][10]"
      ],
      "execution_count": 30,
      "outputs": [
        {
          "output_type": "execute_result",
          "data": {
            "text/plain": [
              "array([3], dtype=uint8)"
            ]
          },
          "metadata": {
            "tags": []
          },
          "execution_count": 30
        }
      ]
    },
    {
      "cell_type": "code",
      "metadata": {
        "id": "wSqehykHiHT6",
        "colab_type": "code",
        "colab": {
          "base_uri": "https://localhost:8080/",
          "height": 284
        },
        "outputId": "ee971345-f854-4002-c38a-fde258032048"
      },
      "source": [
        "plt.imshow(train['X'][:,:,:,0])"
      ],
      "execution_count": 33,
      "outputs": [
        {
          "output_type": "execute_result",
          "data": {
            "text/plain": [
              "<matplotlib.image.AxesImage at 0x7f5a69f800b8>"
            ]
          },
          "metadata": {
            "tags": []
          },
          "execution_count": 33
        },
        {
          "output_type": "display_data",
          "data": {
            "image/png": "[encoded data removed]",
            "text/plain": [
              "<Figure size 432x288 with 1 Axes>"
            ]
          },
          "metadata": {
            "tags": [],
            "needs_background": "light"
          }
        }
      ]
    },
    {
      "cell_type": "code",
      "metadata": {
        "id": "_8URe4wuiHMv",
        "colab_type": "code",
        "colab": {
          "base_uri": "https://localhost:8080/",
          "height": 284
        },
        "outputId": "a71e6a0f-fe61-4dcb-d755-26fb6822ad6d"
      },
      "source": [
        "plt.imshow(train['X'][:,:,0,0])"
      ],
      "execution_count": 34,
      "outputs": [
        {
          "output_type": "execute_result",
          "data": {
            "text/plain": [
              "<matplotlib.image.AxesImage at 0x7f5a69f56e48>"
            ]
          },
          "metadata": {
            "tags": []
          },
          "execution_count": 34
        },
        {
          "output_type": "display_data",
          "data": {
            "image/png": "[encoded data removed]",
            "text/plain": [
              "<Figure size 432x288 with 1 Axes>"
            ]
          },
          "metadata": {
            "tags": [],
            "needs_background": "light"
          }
        }
      ]
    },
    {
      "cell_type": "code",
      "metadata": {
        "id": "kNQirj5PiHEt",
        "colab_type": "code",
        "colab": {
          "base_uri": "https://localhost:8080/",
          "height": 34
        },
        "outputId": "26dcda2e-830c-4818-8f02-b39b4f447ce1"
      },
      "source": [
        "train['y'][0]"
      ],
      "execution_count": 35,
      "outputs": [
        {
          "output_type": "execute_result",
          "data": {
            "text/plain": [
              "array([1], dtype=uint8)"
            ]
          },
          "metadata": {
            "tags": []
          },
          "execution_count": 35
        }
      ]
    },
    {
      "cell_type": "markdown",
      "metadata": {
        "id": "-bStn4zQ0--s",
        "colab_type": "text"
      },
      "source": [
        "coco dataset"
      ]
    },
    {
      "cell_type": "code",
      "metadata": {
        "id": "I0r4a12kgXuA",
        "colab_type": "code",
        "colab": {}
      },
      "source": [
        "# This code downloads the coco dataset from Amazon S3 in parallel.\n",
        "import boto3\n",
        "from botocore import UNSIGNED\n",
        "from botocore.client import Config\n",
        "import multiprocessing\n",
        "import subprocess\n",
        "\n",
        "#files = ['val2017.zip', 'annotations_trainval2017.zip', 'train2017.zip']\n",
        "files = ['val2017.zip', 'annotations_trainval2017.zip']\n",
        "\n",
        "s3 = boto3.client('s3', config=Config(signature_version=UNSIGNED))\n",
        "\n",
        "def download_and_unzip_from_s3(file_name, bucket_name='fast-ai-coco'):\n",
        "    print(\"Downloading\", file_name)\n",
        "    s3.download_file(bucket_name, file_name, file_name)\n",
        "    print(\"Finished downloading\", file_name, \". Starting to unzip.\")\n",
        "    subprocess.run([\"unzip\", file_name])\n",
        "    print(\"Finished unzipping\", file_name)\n",
        "\n"
      ],
      "execution_count": 0,
      "outputs": []
    },
    {
      "cell_type": "code",
      "metadata": {
        "id": "Kx0hszgUgu4z",
        "colab_type": "code",
        "outputId": "cd2a0cee-4d36-455c-ed0e-9e3af93c98cf",
        "colab": {
          "base_uri": "https://localhost:8080/",
          "height": 140
        }
      },
      "source": [
        "# Download in parallel\n",
        "num_cpus = multiprocessing.cpu_count()\n",
        "with multiprocessing.Pool(num_cpus) as p:\n",
        "    p.map(download_and_unzip_from_s3, files)\n",
        "\n",
        "print(\"Done transferring all datasets\")"
      ],
      "execution_count": 23,
      "outputs": [
        {
          "output_type": "stream",
          "text": [
            "Downloading annotations_trainval2017.zip\n",
            "Downloading val2017.zip\n",
            "Finished downloading annotations_trainval2017.zip . Starting to unzip.\n",
            "Finished unzipping annotations_trainval2017.zip\n",
            "Finished downloading val2017.zip . Starting to unzip.\n",
            "Finished unzipping val2017.zip\n",
            "Done transferring all datasets\n"
          ],
          "name": "stdout"
        }
      ]
    },
    {
      "cell_type": "code",
      "metadata": {
        "id": "IsobNaG03ED7",
        "colab_type": "code",
        "colab": {
          "base_uri": "https://localhost:8080/",
          "height": 34
        },
        "outputId": "6f454631-4cf7-42bb-9798-428204aac7f1"
      },
      "source": [
        "len('val2017')"
      ],
      "execution_count": 24,
      "outputs": [
        {
          "output_type": "execute_result",
          "data": {
            "text/plain": [
              "7"
            ]
          },
          "metadata": {
            "tags": []
          },
          "execution_count": 24
        }
      ]
    },
    {
      "cell_type": "code",
      "metadata": {
        "id": "rErOLVpi8Ber",
        "colab_type": "code",
        "colab": {}
      },
      "source": [
        "import matplotlib.pyplot as plt\n",
        "import matplotlib.image as mpimg"
      ],
      "execution_count": 0,
      "outputs": []
    },
    {
      "cell_type": "code",
      "metadata": {
        "id": "HwVH6ZUH8CdW",
        "colab_type": "code",
        "colab": {
          "base_uri": "https://localhost:8080/",
          "height": 586
        },
        "outputId": "5326d51b-1697-4ccd-ac97-5190426d2980"
      },
      "source": [
        "import numpy as np\n",
        "plt.imshow(np.real('val2017/458992.png'))"
      ],
      "execution_count": 29,
      "outputs": [
        {
          "output_type": "error",
          "ename": "TypeError",
          "evalue": "ignored",
          "traceback": [
            "\u001b[0;31m---------------------------------------------------------------------------\u001b[0m",
            "\u001b[0;31mTypeError\u001b[0m                                 Traceback (most recent call last)",
            "\u001b[0;32m<ipython-input-29-6a0722ba5887>\u001b[0m in \u001b[0;36m<module>\u001b[0;34m()\u001b[0m\n\u001b[1;32m      1\u001b[0m \u001b[0;32mimport\u001b[0m \u001b[0mnumpy\u001b[0m \u001b[0;32mas\u001b[0m \u001b[0mnp\u001b[0m\u001b[0;34m\u001b[0m\u001b[0;34m\u001b[0m\u001b[0m\n\u001b[0;32m----> 2\u001b[0;31m \u001b[0mplt\u001b[0m\u001b[0;34m.\u001b[0m\u001b[0mimshow\u001b[0m\u001b[0;34m(\u001b[0m\u001b[0mnp\u001b[0m\u001b[0;34m.\u001b[0m\u001b[0mreal\u001b[0m\u001b[0;34m(\u001b[0m\u001b[0;34m'val2017/458992.png'\u001b[0m\u001b[0;34m)\u001b[0m\u001b[0;34m)\u001b[0m\u001b[0;34m\u001b[0m\u001b[0;34m\u001b[0m\u001b[0m\n\u001b[0m",
            "\u001b[0;32m/usr/local/lib/python3.6/dist-packages/matplotlib/pyplot.py\u001b[0m in \u001b[0;36mimshow\u001b[0;34m(X, cmap, norm, aspect, interpolation, alpha, vmin, vmax, origin, extent, shape, filternorm, filterrad, imlim, resample, url, data, **kwargs)\u001b[0m\n\u001b[1;32m   2649\u001b[0m         \u001b[0mfilternorm\u001b[0m\u001b[0;34m=\u001b[0m\u001b[0mfilternorm\u001b[0m\u001b[0;34m,\u001b[0m \u001b[0mfilterrad\u001b[0m\u001b[0;34m=\u001b[0m\u001b[0mfilterrad\u001b[0m\u001b[0;34m,\u001b[0m \u001b[0mimlim\u001b[0m\u001b[0;34m=\u001b[0m\u001b[0mimlim\u001b[0m\u001b[0;34m,\u001b[0m\u001b[0;34m\u001b[0m\u001b[0;34m\u001b[0m\u001b[0m\n\u001b[1;32m   2650\u001b[0m         resample=resample, url=url, **({\"data\": data} if data is not\n\u001b[0;32m-> 2651\u001b[0;31m         None else {}), **kwargs)\n\u001b[0m\u001b[1;32m   2652\u001b[0m     \u001b[0msci\u001b[0m\u001b[0;34m(\u001b[0m\u001b[0m__ret\u001b[0m\u001b[0;34m)\u001b[0m\u001b[0;34m\u001b[0m\u001b[0;34m\u001b[0m\u001b[0m\n\u001b[1;32m   2653\u001b[0m     \u001b[0;32mreturn\u001b[0m \u001b[0m__ret\u001b[0m\u001b[0;34m\u001b[0m\u001b[0;34m\u001b[0m\u001b[0m\n",
            "\u001b[0;32m/usr/local/lib/python3.6/dist-packages/matplotlib/__init__.py\u001b[0m in \u001b[0;36minner\u001b[0;34m(ax, data, *args, **kwargs)\u001b[0m\n\u001b[1;32m   1563\u001b[0m     \u001b[0;32mdef\u001b[0m \u001b[0minner\u001b[0m\u001b[0;34m(\u001b[0m\u001b[0max\u001b[0m\u001b[0;34m,\u001b[0m \u001b[0;34m*\u001b[0m\u001b[0margs\u001b[0m\u001b[0;34m,\u001b[0m \u001b[0mdata\u001b[0m\u001b[0;34m=\u001b[0m\u001b[0;32mNone\u001b[0m\u001b[0;34m,\u001b[0m \u001b[0;34m**\u001b[0m\u001b[0mkwargs\u001b[0m\u001b[0;34m)\u001b[0m\u001b[0;34m:\u001b[0m\u001b[0;34m\u001b[0m\u001b[0;34m\u001b[0m\u001b[0m\n\u001b[1;32m   1564\u001b[0m         \u001b[0;32mif\u001b[0m \u001b[0mdata\u001b[0m \u001b[0;32mis\u001b[0m \u001b[0;32mNone\u001b[0m\u001b[0;34m:\u001b[0m\u001b[0;34m\u001b[0m\u001b[0;34m\u001b[0m\u001b[0m\n\u001b[0;32m-> 1565\u001b[0;31m             \u001b[0;32mreturn\u001b[0m \u001b[0mfunc\u001b[0m\u001b[0;34m(\u001b[0m\u001b[0max\u001b[0m\u001b[0;34m,\u001b[0m \u001b[0;34m*\u001b[0m\u001b[0mmap\u001b[0m\u001b[0;34m(\u001b[0m\u001b[0msanitize_sequence\u001b[0m\u001b[0;34m,\u001b[0m \u001b[0margs\u001b[0m\u001b[0;34m)\u001b[0m\u001b[0;34m,\u001b[0m \u001b[0;34m**\u001b[0m\u001b[0mkwargs\u001b[0m\u001b[0;34m)\u001b[0m\u001b[0;34m\u001b[0m\u001b[0;34m\u001b[0m\u001b[0m\n\u001b[0m\u001b[1;32m   1566\u001b[0m \u001b[0;34m\u001b[0m\u001b[0m\n\u001b[1;32m   1567\u001b[0m         \u001b[0mbound\u001b[0m \u001b[0;34m=\u001b[0m \u001b[0mnew_sig\u001b[0m\u001b[0;34m.\u001b[0m\u001b[0mbind\u001b[0m\u001b[0;34m(\u001b[0m\u001b[0max\u001b[0m\u001b[0;34m,\u001b[0m \u001b[0;34m*\u001b[0m\u001b[0margs\u001b[0m\u001b[0;34m,\u001b[0m \u001b[0;34m**\u001b[0m\u001b[0mkwargs\u001b[0m\u001b[0;34m)\u001b[0m\u001b[0;34m\u001b[0m\u001b[0;34m\u001b[0m\u001b[0m\n",
            "\u001b[0;32m/usr/local/lib/python3.6/dist-packages/matplotlib/cbook/deprecation.py\u001b[0m in \u001b[0;36mwrapper\u001b[0;34m(*args, **kwargs)\u001b[0m\n\u001b[1;32m    356\u001b[0m                 \u001b[0;34mf\"%(removal)s.  If any parameter follows {name!r}, they \"\u001b[0m\u001b[0;34m\u001b[0m\u001b[0;34m\u001b[0m\u001b[0m\n\u001b[1;32m    357\u001b[0m                 f\"should be pass as keyword, not positionally.\")\n\u001b[0;32m--> 358\u001b[0;31m         \u001b[0;32mreturn\u001b[0m \u001b[0mfunc\u001b[0m\u001b[0;34m(\u001b[0m\u001b[0;34m*\u001b[0m\u001b[0margs\u001b[0m\u001b[0;34m,\u001b[0m \u001b[0;34m**\u001b[0m\u001b[0mkwargs\u001b[0m\u001b[0;34m)\u001b[0m\u001b[0;34m\u001b[0m\u001b[0;34m\u001b[0m\u001b[0m\n\u001b[0m\u001b[1;32m    359\u001b[0m \u001b[0;34m\u001b[0m\u001b[0m\n\u001b[1;32m    360\u001b[0m     \u001b[0;32mreturn\u001b[0m \u001b[0mwrapper\u001b[0m\u001b[0;34m\u001b[0m\u001b[0;34m\u001b[0m\u001b[0m\n",
            "\u001b[0;32m/usr/local/lib/python3.6/dist-packages/matplotlib/cbook/deprecation.py\u001b[0m in \u001b[0;36mwrapper\u001b[0;34m(*args, **kwargs)\u001b[0m\n\u001b[1;32m    356\u001b[0m                 \u001b[0;34mf\"%(removal)s.  If any parameter follows {name!r}, they \"\u001b[0m\u001b[0;34m\u001b[0m\u001b[0;34m\u001b[0m\u001b[0m\n\u001b[1;32m    357\u001b[0m                 f\"should be pass as keyword, not positionally.\")\n\u001b[0;32m--> 358\u001b[0;31m         \u001b[0;32mreturn\u001b[0m \u001b[0mfunc\u001b[0m\u001b[0;34m(\u001b[0m\u001b[0;34m*\u001b[0m\u001b[0margs\u001b[0m\u001b[0;34m,\u001b[0m \u001b[0;34m**\u001b[0m\u001b[0mkwargs\u001b[0m\u001b[0;34m)\u001b[0m\u001b[0;34m\u001b[0m\u001b[0;34m\u001b[0m\u001b[0m\n\u001b[0m\u001b[1;32m    359\u001b[0m \u001b[0;34m\u001b[0m\u001b[0m\n\u001b[1;32m    360\u001b[0m     \u001b[0;32mreturn\u001b[0m \u001b[0mwrapper\u001b[0m\u001b[0;34m\u001b[0m\u001b[0;34m\u001b[0m\u001b[0m\n",
            "\u001b[0;32m/usr/local/lib/python3.6/dist-packages/matplotlib/axes/_axes.py\u001b[0m in \u001b[0;36mimshow\u001b[0;34m(self, X, cmap, norm, aspect, interpolation, alpha, vmin, vmax, origin, extent, shape, filternorm, filterrad, imlim, resample, url, **kwargs)\u001b[0m\n\u001b[1;32m   5613\u001b[0m                               resample=resample, **kwargs)\n\u001b[1;32m   5614\u001b[0m \u001b[0;34m\u001b[0m\u001b[0m\n\u001b[0;32m-> 5615\u001b[0;31m         \u001b[0mim\u001b[0m\u001b[0;34m.\u001b[0m\u001b[0mset_data\u001b[0m\u001b[0;34m(\u001b[0m\u001b[0mX\u001b[0m\u001b[0;34m)\u001b[0m\u001b[0;34m\u001b[0m\u001b[0;34m\u001b[0m\u001b[0m\n\u001b[0m\u001b[1;32m   5616\u001b[0m         \u001b[0mim\u001b[0m\u001b[0;34m.\u001b[0m\u001b[0mset_alpha\u001b[0m\u001b[0;34m(\u001b[0m\u001b[0malpha\u001b[0m\u001b[0;34m)\u001b[0m\u001b[0;34m\u001b[0m\u001b[0;34m\u001b[0m\u001b[0m\n\u001b[1;32m   5617\u001b[0m         \u001b[0;32mif\u001b[0m \u001b[0mim\u001b[0m\u001b[0;34m.\u001b[0m\u001b[0mget_clip_path\u001b[0m\u001b[0;34m(\u001b[0m\u001b[0;34m)\u001b[0m \u001b[0;32mis\u001b[0m \u001b[0;32mNone\u001b[0m\u001b[0;34m:\u001b[0m\u001b[0;34m\u001b[0m\u001b[0;34m\u001b[0m\u001b[0m\n",
            "\u001b[0;32m/usr/local/lib/python3.6/dist-packages/matplotlib/image.py\u001b[0m in \u001b[0;36mset_data\u001b[0;34m(self, A)\u001b[0m\n\u001b[1;32m    692\u001b[0m                 not np.can_cast(self._A.dtype, float, \"same_kind\")):\n\u001b[1;32m    693\u001b[0m             raise TypeError(\"Image data of dtype {} cannot be converted to \"\n\u001b[0;32m--> 694\u001b[0;31m                             \"float\".format(self._A.dtype))\n\u001b[0m\u001b[1;32m    695\u001b[0m \u001b[0;34m\u001b[0m\u001b[0m\n\u001b[1;32m    696\u001b[0m         if not (self._A.ndim == 2\n",
            "\u001b[0;31mTypeError\u001b[0m: Image data of dtype <U18 cannot be converted to float"
          ]
        },
        {
          "output_type": "display_data",
          "data": {
            "image/png": "[encoded data removed]",
            "text/plain": [
              "<Figure size 432x288 with 1 Axes>"
            ]
          },
          "metadata": {
            "tags": [],
            "needs_background": "light"
          }
        }
      ]
    },
    {
      "cell_type": "code",
      "metadata": {
        "id": "aIQuwv4V5dQ9",
        "colab_type": "code",
        "colab": {
          "base_uri": "https://localhost:8080/",
          "height": 222
        },
        "outputId": "8cb90943-e754-4530-a5b9-6a3515dfe6bd"
      },
      "source": [
        "from os import listdir\n",
        "from os.path import isfile, join\n",
        "files = [f for f in listdir('vla2017') if isfile(join('val2017', f))]\n",
        "\n"
      ],
      "execution_count": 17,
      "outputs": [
        {
          "output_type": "error",
          "ename": "FileNotFoundError",
          "evalue": "ignored",
          "traceback": [
            "\u001b[0;31m---------------------------------------------------------------------------\u001b[0m",
            "\u001b[0;31mFileNotFoundError\u001b[0m                         Traceback (most recent call last)",
            "\u001b[0;32m<ipython-input-17-6cd9c4b98e0b>\u001b[0m in \u001b[0;36m<module>\u001b[0;34m()\u001b[0m\n\u001b[1;32m      1\u001b[0m \u001b[0;32mfrom\u001b[0m \u001b[0mos\u001b[0m \u001b[0;32mimport\u001b[0m \u001b[0mlistdir\u001b[0m\u001b[0;34m\u001b[0m\u001b[0;34m\u001b[0m\u001b[0m\n\u001b[1;32m      2\u001b[0m \u001b[0;32mfrom\u001b[0m \u001b[0mos\u001b[0m\u001b[0;34m.\u001b[0m\u001b[0mpath\u001b[0m \u001b[0;32mimport\u001b[0m \u001b[0misfile\u001b[0m\u001b[0;34m,\u001b[0m \u001b[0mjoin\u001b[0m\u001b[0;34m\u001b[0m\u001b[0;34m\u001b[0m\u001b[0m\n\u001b[0;32m----> 3\u001b[0;31m \u001b[0mfiles\u001b[0m \u001b[0;34m=\u001b[0m \u001b[0;34m[\u001b[0m\u001b[0mf\u001b[0m \u001b[0;32mfor\u001b[0m \u001b[0mf\u001b[0m \u001b[0;32min\u001b[0m \u001b[0mlistdir\u001b[0m\u001b[0;34m(\u001b[0m\u001b[0;34m'vla2017'\u001b[0m\u001b[0;34m)\u001b[0m \u001b[0;32mif\u001b[0m \u001b[0misfile\u001b[0m\u001b[0;34m(\u001b[0m\u001b[0mjoin\u001b[0m\u001b[0;34m(\u001b[0m\u001b[0;34m'val2017'\u001b[0m\u001b[0;34m,\u001b[0m \u001b[0mf\u001b[0m\u001b[0;34m)\u001b[0m\u001b[0;34m)\u001b[0m\u001b[0;34m]\u001b[0m\u001b[0;34m\u001b[0m\u001b[0;34m\u001b[0m\u001b[0m\n\u001b[0m\u001b[1;32m      4\u001b[0m \u001b[0;34m\u001b[0m\u001b[0m\n",
            "\u001b[0;31mFileNotFoundError\u001b[0m: [Errno 2] No such file or directory: 'vla2017'"
          ]
        }
      ]
    },
    {
      "cell_type": "code",
      "metadata": {
        "id": "kSngCSR13-Ea",
        "colab_type": "code",
        "colab": {
          "base_uri": "https://localhost:8080/",
          "height": 52
        },
        "outputId": "3ef3b067-9f12-441d-d21f-658f3652a5eb"
      },
      "source": [
        "import glob\n",
        "import itertools\n",
        "\n",
        "def getFilenames(exts):\n",
        "       fnames = [glob.glob(ext) for ext in exts]\n",
        "       fnames = list(itertools.chain.from_iterable(fnames))\n",
        "       return fnames\n",
        "\n",
        "\n",
        "## get `.py` and `.txt` in current folder\n",
        "exts = [\"*.py\",\"*.txt\"]\n",
        "res = getFilenames(exts)\n",
        "print(res)\n",
        "# ['utils.py', 'tt02.py', 'feature.py', 'tt01.py', 'a.txt']\n",
        "\n",
        "\n",
        "# get `.png` in  current folder and subfolders\n",
        "exts = [\"*.png\",\"*/*.png\"]\n",
        "res = getFilenames(exts)\n",
        "print(res)\n",
        "# ['img01.png', 'imgs/img02.png']"
      ],
      "execution_count": 16,
      "outputs": [
        {
          "output_type": "stream",
          "text": [
            "[]\n",
            "[]\n"
          ],
          "name": "stdout"
        }
      ]
    },
    {
      "cell_type": "code",
      "metadata": {
        "id": "nwNDDOnK5cR6",
        "colab_type": "code",
        "colab": {}
      },
      "source": [
        ""
      ],
      "execution_count": 0,
      "outputs": []
    },
    {
      "cell_type": "code",
      "metadata": {
        "id": "w5ocpYRNlY13",
        "colab_type": "code",
        "colab": {}
      },
      "source": [
        "import json"
      ],
      "execution_count": 0,
      "outputs": []
    },
    {
      "cell_type": "code",
      "metadata": {
        "id": "1BDpd6BPlael",
        "colab_type": "code",
        "colab": {}
      },
      "source": [
        "with open(\"annotations/person_keypoints_val2017.json\", \"r\") as st_json:\n",
        "\n",
        "    st_python = json.load(st_json)"
      ],
      "execution_count": 0,
      "outputs": []
    },
    {
      "cell_type": "code",
      "metadata": {
        "id": "wNI32B7fxhho",
        "colab_type": "code",
        "outputId": "20a3f88a-761d-4892-9ec0-f13f578eb095",
        "colab": {
          "base_uri": "https://localhost:8080/",
          "height": 34
        }
      },
      "source": [
        "len(st_python)"
      ],
      "execution_count": 5,
      "outputs": [
        {
          "output_type": "execute_result",
          "data": {
            "text/plain": [
              "5"
            ]
          },
          "metadata": {
            "tags": []
          },
          "execution_count": 5
        }
      ]
    },
    {
      "cell_type": "markdown",
      "metadata": {
        "id": "UdOLOgXJ382b",
        "colab_type": "text"
      },
      "source": [
        ""
      ]
    },
    {
      "cell_type": "code",
      "metadata": {
        "id": "x7bzF9_Gxn8D",
        "colab_type": "code",
        "outputId": "dc8302d0-6075-4b83-fc1c-73ad373c9ef8",
        "colab": {
          "base_uri": "https://localhost:8080/",
          "height": 34
        }
      },
      "source": [
        "st_python.keys()"
      ],
      "execution_count": 6,
      "outputs": [
        {
          "output_type": "execute_result",
          "data": {
            "text/plain": [
              "dict_keys(['info', 'licenses', 'images', 'annotations', 'categories'])"
            ]
          },
          "metadata": {
            "tags": []
          },
          "execution_count": 6
        }
      ]
    },
    {
      "cell_type": "code",
      "metadata": {
        "id": "LyOHLIb1ybPz",
        "colab_type": "code",
        "outputId": "011cdf81-7bc6-49a7-b611-b0e038deb3d9",
        "colab": {
          "base_uri": "https://localhost:8080/",
          "height": 316
        }
      },
      "source": [
        "st_python['categories'][0]['keypoints']\n",
        "\n"
      ],
      "execution_count": 7,
      "outputs": [
        {
          "output_type": "execute_result",
          "data": {
            "text/plain": [
              "['nose',\n",
              " 'left_eye',\n",
              " 'right_eye',\n",
              " 'left_ear',\n",
              " 'right_ear',\n",
              " 'left_shoulder',\n",
              " 'right_shoulder',\n",
              " 'left_elbow',\n",
              " 'right_elbow',\n",
              " 'left_wrist',\n",
              " 'right_wrist',\n",
              " 'left_hip',\n",
              " 'right_hip',\n",
              " 'left_knee',\n",
              " 'right_knee',\n",
              " 'left_ankle',\n",
              " 'right_ankle']"
            ]
          },
          "metadata": {
            "tags": []
          },
          "execution_count": 7
        }
      ]
    },
    {
      "cell_type": "code",
      "metadata": {
        "id": "3Q7jZB-azEQR",
        "colab_type": "code",
        "colab": {}
      },
      "source": [
        "st_python['annotations'][0]"
      ],
      "execution_count": 0,
      "outputs": []
    },
    {
      "cell_type": "code",
      "metadata": {
        "id": "eOiwSolA0Fkx",
        "colab_type": "code",
        "colab": {}
      },
      "source": [
        "with open(\"annotations/instances_val2017.json\", \"r\") as st_json:\n",
        "\n",
        "    st_python_ins = json.load(st_json)"
      ],
      "execution_count": 0,
      "outputs": []
    },
    {
      "cell_type": "code",
      "metadata": {
        "id": "bgV2h_FM30-u",
        "colab_type": "code",
        "outputId": "6565994e-9b9f-4786-a2df-1fcc83e66559",
        "colab": {
          "base_uri": "https://localhost:8080/",
          "height": 34
        }
      },
      "source": [
        "st_python_ins.keys()"
      ],
      "execution_count": 0,
      "outputs": [
        {
          "output_type": "execute_result",
          "data": {
            "text/plain": [
              "dict_keys(['info', 'licenses', 'images', 'annotations', 'categories'])"
            ]
          },
          "metadata": {
            "tags": []
          },
          "execution_count": 25
        }
      ]
    },
    {
      "cell_type": "code",
      "metadata": {
        "id": "ZEA62kbj4Jkb",
        "colab_type": "code",
        "outputId": "df8ad96d-7ffb-4904-d337-0e1e5e3aa5e9",
        "colab": {
          "base_uri": "https://localhost:8080/",
          "height": 1000
        }
      },
      "source": [
        "st_python_ins['categories']"
      ],
      "execution_count": 0,
      "outputs": [
        {
          "output_type": "execute_result",
          "data": {
            "text/plain": [
              "[{'id': 1, 'name': 'person', 'supercategory': 'person'},\n",
              " {'id': 2, 'name': 'bicycle', 'supercategory': 'vehicle'},\n",
              " {'id': 3, 'name': 'car', 'supercategory': 'vehicle'},\n",
              " {'id': 4, 'name': 'motorcycle', 'supercategory': 'vehicle'},\n",
              " {'id': 5, 'name': 'airplane', 'supercategory': 'vehicle'},\n",
              " {'id': 6, 'name': 'bus', 'supercategory': 'vehicle'},\n",
              " {'id': 7, 'name': 'train', 'supercategory': 'vehicle'},\n",
              " {'id': 8, 'name': 'truck', 'supercategory': 'vehicle'},\n",
              " {'id': 9, 'name': 'boat', 'supercategory': 'vehicle'},\n",
              " {'id': 10, 'name': 'traffic light', 'supercategory': 'outdoor'},\n",
              " {'id': 11, 'name': 'fire hydrant', 'supercategory': 'outdoor'},\n",
              " {'id': 13, 'name': 'stop sign', 'supercategory': 'outdoor'},\n",
              " {'id': 14, 'name': 'parking meter', 'supercategory': 'outdoor'},\n",
              " {'id': 15, 'name': 'bench', 'supercategory': 'outdoor'},\n",
              " {'id': 16, 'name': 'bird', 'supercategory': 'animal'},\n",
              " {'id': 17, 'name': 'cat', 'supercategory': 'animal'},\n",
              " {'id': 18, 'name': 'dog', 'supercategory': 'animal'},\n",
              " {'id': 19, 'name': 'horse', 'supercategory': 'animal'},\n",
              " {'id': 20, 'name': 'sheep', 'supercategory': 'animal'},\n",
              " {'id': 21, 'name': 'cow', 'supercategory': 'animal'},\n",
              " {'id': 22, 'name': 'elephant', 'supercategory': 'animal'},\n",
              " {'id': 23, 'name': 'bear', 'supercategory': 'animal'},\n",
              " {'id': 24, 'name': 'zebra', 'supercategory': 'animal'},\n",
              " {'id': 25, 'name': 'giraffe', 'supercategory': 'animal'},\n",
              " {'id': 27, 'name': 'backpack', 'supercategory': 'accessory'},\n",
              " {'id': 28, 'name': 'umbrella', 'supercategory': 'accessory'},\n",
              " {'id': 31, 'name': 'handbag', 'supercategory': 'accessory'},\n",
              " {'id': 32, 'name': 'tie', 'supercategory': 'accessory'},\n",
              " {'id': 33, 'name': 'suitcase', 'supercategory': 'accessory'},\n",
              " {'id': 34, 'name': 'frisbee', 'supercategory': 'sports'},\n",
              " {'id': 35, 'name': 'skis', 'supercategory': 'sports'},\n",
              " {'id': 36, 'name': 'snowboard', 'supercategory': 'sports'},\n",
              " {'id': 37, 'name': 'sports ball', 'supercategory': 'sports'},\n",
              " {'id': 38, 'name': 'kite', 'supercategory': 'sports'},\n",
              " {'id': 39, 'name': 'baseball bat', 'supercategory': 'sports'},\n",
              " {'id': 40, 'name': 'baseball glove', 'supercategory': 'sports'},\n",
              " {'id': 41, 'name': 'skateboard', 'supercategory': 'sports'},\n",
              " {'id': 42, 'name': 'surfboard', 'supercategory': 'sports'},\n",
              " {'id': 43, 'name': 'tennis racket', 'supercategory': 'sports'},\n",
              " {'id': 44, 'name': 'bottle', 'supercategory': 'kitchen'},\n",
              " {'id': 46, 'name': 'wine glass', 'supercategory': 'kitchen'},\n",
              " {'id': 47, 'name': 'cup', 'supercategory': 'kitchen'},\n",
              " {'id': 48, 'name': 'fork', 'supercategory': 'kitchen'},\n",
              " {'id': 49, 'name': 'knife', 'supercategory': 'kitchen'},\n",
              " {'id': 50, 'name': 'spoon', 'supercategory': 'kitchen'},\n",
              " {'id': 51, 'name': 'bowl', 'supercategory': 'kitchen'},\n",
              " {'id': 52, 'name': 'banana', 'supercategory': 'food'},\n",
              " {'id': 53, 'name': 'apple', 'supercategory': 'food'},\n",
              " {'id': 54, 'name': 'sandwich', 'supercategory': 'food'},\n",
              " {'id': 55, 'name': 'orange', 'supercategory': 'food'},\n",
              " {'id': 56, 'name': 'broccoli', 'supercategory': 'food'},\n",
              " {'id': 57, 'name': 'carrot', 'supercategory': 'food'},\n",
              " {'id': 58, 'name': 'hot dog', 'supercategory': 'food'},\n",
              " {'id': 59, 'name': 'pizza', 'supercategory': 'food'},\n",
              " {'id': 60, 'name': 'donut', 'supercategory': 'food'},\n",
              " {'id': 61, 'name': 'cake', 'supercategory': 'food'},\n",
              " {'id': 62, 'name': 'chair', 'supercategory': 'furniture'},\n",
              " {'id': 63, 'name': 'couch', 'supercategory': 'furniture'},\n",
              " {'id': 64, 'name': 'potted plant', 'supercategory': 'furniture'},\n",
              " {'id': 65, 'name': 'bed', 'supercategory': 'furniture'},\n",
              " {'id': 67, 'name': 'dining table', 'supercategory': 'furniture'},\n",
              " {'id': 70, 'name': 'toilet', 'supercategory': 'furniture'},\n",
              " {'id': 72, 'name': 'tv', 'supercategory': 'electronic'},\n",
              " {'id': 73, 'name': 'laptop', 'supercategory': 'electronic'},\n",
              " {'id': 74, 'name': 'mouse', 'supercategory': 'electronic'},\n",
              " {'id': 75, 'name': 'remote', 'supercategory': 'electronic'},\n",
              " {'id': 76, 'name': 'keyboard', 'supercategory': 'electronic'},\n",
              " {'id': 77, 'name': 'cell phone', 'supercategory': 'electronic'},\n",
              " {'id': 78, 'name': 'microwave', 'supercategory': 'appliance'},\n",
              " {'id': 79, 'name': 'oven', 'supercategory': 'appliance'},\n",
              " {'id': 80, 'name': 'toaster', 'supercategory': 'appliance'},\n",
              " {'id': 81, 'name': 'sink', 'supercategory': 'appliance'},\n",
              " {'id': 82, 'name': 'refrigerator', 'supercategory': 'appliance'},\n",
              " {'id': 84, 'name': 'book', 'supercategory': 'indoor'},\n",
              " {'id': 85, 'name': 'clock', 'supercategory': 'indoor'},\n",
              " {'id': 86, 'name': 'vase', 'supercategory': 'indoor'},\n",
              " {'id': 87, 'name': 'scissors', 'supercategory': 'indoor'},\n",
              " {'id': 88, 'name': 'teddy bear', 'supercategory': 'indoor'},\n",
              " {'id': 89, 'name': 'hair drier', 'supercategory': 'indoor'},\n",
              " {'id': 90, 'name': 'toothbrush', 'supercategory': 'indoor'}]"
            ]
          },
          "metadata": {
            "tags": []
          },
          "execution_count": 26
        }
      ]
    },
    {
      "cell_type": "code",
      "metadata": {
        "id": "GBQxSlCfAHV1",
        "colab_type": "code",
        "colab": {}
      },
      "source": [
        ""
      ],
      "execution_count": 0,
      "outputs": []
    }
  ]
}